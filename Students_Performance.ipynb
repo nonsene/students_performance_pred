{
  "nbformat": 4,
  "nbformat_minor": 0,
  "metadata": {
    "colab": {
      "name": "Students_Performance.ipynb",
      "provenance": [],
      "collapsed_sections": [
        "6onYKrP6SmdX",
        "IaZ6JX6sSv1l",
        "dxzOC4UlJH67",
        "pAp8MZo9S_vl",
        "h4r2GdDyZoMt",
        "m3wIH9mOONzN",
        "fwuxT5HNOQoX",
        "5cob6ExmPULQ",
        "_lQ_umPdS5YB",
        "HwfoxNW2bM4O",
        "ycb3aWQYWQBI",
        "6M4Dbn6xWaiI",
        "KB7VxuOpa2uw",
        "RgUyIIC2WlR1"
      ],
      "toc_visible": true
    },
    "kernelspec": {
      "name": "python3",
      "display_name": "Python 3"
    },
    "language_info": {
      "name": "python"
    }
  },
  "cells": [
    {
      "cell_type": "code",
      "metadata": {
        "id": "hQiZ6osD6lqD"
      },
      "source": [
        "import pandas as pd\n",
        "import numpy as np\n",
        "import matplotlib.pyplot as plt\n",
        "import seaborn as sns\n",
        "import plotly.express as px\n",
        "from scipy import stats\n",
        "from matplotlib.gridspec import GridSpec\n",
        "from sklearn.model_selection import train_test_split\n",
        "from sklearn.linear_model import LinearRegression\n",
        "import plotly.graph_objects as go"
      ],
      "execution_count": 1,
      "outputs": []
    },
    {
      "cell_type": "markdown",
      "metadata": {
        "id": "6onYKrP6SmdX"
      },
      "source": [
        "# ⬇️ Downloading data"
      ]
    },
    {
      "cell_type": "code",
      "metadata": {
        "colab": {
          "base_uri": "https://localhost:8080/",
          "height": 0
        },
        "id": "2hbVWCK46L9F",
        "outputId": "a109ca18-e647-43b5-ece0-57bfdcbfa059"
      },
      "source": [
        "path = '/content/drive/MyDrive/Colab Notebooks/StudentsPerformance.csv'\n",
        "data = pd.read_csv(path)\n",
        "data.head()"
      ],
      "execution_count": 2,
      "outputs": [
        {
          "output_type": "execute_result",
          "data": {
            "text/html": [
              "<div>\n",
              "<style scoped>\n",
              "    .dataframe tbody tr th:only-of-type {\n",
              "        vertical-align: middle;\n",
              "    }\n",
              "\n",
              "    .dataframe tbody tr th {\n",
              "        vertical-align: top;\n",
              "    }\n",
              "\n",
              "    .dataframe thead th {\n",
              "        text-align: right;\n",
              "    }\n",
              "</style>\n",
              "<table border=\"1\" class=\"dataframe\">\n",
              "  <thead>\n",
              "    <tr style=\"text-align: right;\">\n",
              "      <th></th>\n",
              "      <th>gender</th>\n",
              "      <th>race/ethnicity</th>\n",
              "      <th>parental level of education</th>\n",
              "      <th>lunch</th>\n",
              "      <th>test preparation course</th>\n",
              "      <th>math score</th>\n",
              "      <th>reading score</th>\n",
              "      <th>writing score</th>\n",
              "    </tr>\n",
              "  </thead>\n",
              "  <tbody>\n",
              "    <tr>\n",
              "      <th>0</th>\n",
              "      <td>female</td>\n",
              "      <td>group B</td>\n",
              "      <td>bachelor's degree</td>\n",
              "      <td>standard</td>\n",
              "      <td>none</td>\n",
              "      <td>72</td>\n",
              "      <td>72</td>\n",
              "      <td>74</td>\n",
              "    </tr>\n",
              "    <tr>\n",
              "      <th>1</th>\n",
              "      <td>female</td>\n",
              "      <td>group C</td>\n",
              "      <td>some college</td>\n",
              "      <td>standard</td>\n",
              "      <td>completed</td>\n",
              "      <td>69</td>\n",
              "      <td>90</td>\n",
              "      <td>88</td>\n",
              "    </tr>\n",
              "    <tr>\n",
              "      <th>2</th>\n",
              "      <td>female</td>\n",
              "      <td>group B</td>\n",
              "      <td>master's degree</td>\n",
              "      <td>standard</td>\n",
              "      <td>none</td>\n",
              "      <td>90</td>\n",
              "      <td>95</td>\n",
              "      <td>93</td>\n",
              "    </tr>\n",
              "    <tr>\n",
              "      <th>3</th>\n",
              "      <td>male</td>\n",
              "      <td>group A</td>\n",
              "      <td>associate's degree</td>\n",
              "      <td>free/reduced</td>\n",
              "      <td>none</td>\n",
              "      <td>47</td>\n",
              "      <td>57</td>\n",
              "      <td>44</td>\n",
              "    </tr>\n",
              "    <tr>\n",
              "      <th>4</th>\n",
              "      <td>male</td>\n",
              "      <td>group C</td>\n",
              "      <td>some college</td>\n",
              "      <td>standard</td>\n",
              "      <td>none</td>\n",
              "      <td>76</td>\n",
              "      <td>78</td>\n",
              "      <td>75</td>\n",
              "    </tr>\n",
              "  </tbody>\n",
              "</table>\n",
              "</div>"
            ],
            "text/plain": [
              "   gender race/ethnicity  ... reading score writing score\n",
              "0  female        group B  ...            72            74\n",
              "1  female        group C  ...            90            88\n",
              "2  female        group B  ...            95            93\n",
              "3    male        group A  ...            57            44\n",
              "4    male        group C  ...            78            75\n",
              "\n",
              "[5 rows x 8 columns]"
            ]
          },
          "metadata": {
            "tags": []
          },
          "execution_count": 2
        }
      ]
    },
    {
      "cell_type": "markdown",
      "metadata": {
        "id": "IaZ6JX6sSv1l"
      },
      "source": [
        "# 📊 Graphs"
      ]
    },
    {
      "cell_type": "code",
      "metadata": {
        "colab": {
          "base_uri": "https://localhost:8080/",
          "height": 493
        },
        "id": "WYTh4DLiL-uE",
        "outputId": "9f9a72af-1dd3-4e54-81d4-fd03c2dff45b"
      },
      "source": [
        "fig = plt.figure(figsize=(25,7))\n",
        "grid = GridSpec(nrows=1, ncols=3, figure=fig)\n",
        "fig.suptitle(\"Test score distribution by gender\", fontsize=20)\n",
        "\n",
        "axis1 = fig.add_subplot(grid[0,0])\n",
        "sns.histplot(data=data, x='math score', hue='gender')\n",
        "\n",
        "axis2 = fig.add_subplot(grid[0,1])\n",
        "sns.histplot(data=data, x='writing score', hue='gender')\n",
        "\n",
        "axis3 = fig.add_subplot(grid[0,2])\n",
        "sns.histplot(data=data, x='reading score', hue='gender')\n",
        "\n",
        "plt.show()"
      ],
      "execution_count": 3,
      "outputs": [
        {
          "output_type": "display_data",
          "data": {
            "image/png": "[encoded data removed]",
            "text/plain": [
              "<Figure size 1800x504 with 3 Axes>"
            ]
          },
          "metadata": {
            "tags": [],
            "needs_background": "light"
          }
        }
      ]
    },
    {
      "cell_type": "code",
      "metadata": {
        "colab": {
          "base_uri": "https://localhost:8080/",
          "height": 493
        },
        "id": "NQuKwCPSERhW",
        "outputId": "46b17ac3-7f75-4f5a-e6bf-31f9d0839356"
      },
      "source": [
        "fig = plt.figure(figsize=(25,7))\n",
        "grid = GridSpec(nrows=1, ncols=3, figure=fig)\n",
        "fig.suptitle(\"Test score distribution by race/ethnicity\", fontsize=20)\n",
        "\n",
        "axis4 = fig.add_subplot(grid[0,0])\n",
        "sns.histplot(data=data, x='math score', hue='race/ethnicity')\n",
        "\n",
        "axis5 = fig.add_subplot(grid[0,1])\n",
        "sns.histplot(data=data, x='writing score', hue='race/ethnicity')\n",
        "\n",
        "axis6 = fig.add_subplot(grid[0,2])\n",
        "sns.histplot(data=data, x='reading score', hue='race/ethnicity')\n",
        "\n",
        "plt.show()"
      ],
      "execution_count": 4,
      "outputs": [
        {
          "output_type": "display_data",
          "data": {
            "image/png": "[encoded data removed]",
            "text/plain": [
              "<Figure size 1800x504 with 3 Axes>"
            ]
          },
          "metadata": {
            "tags": [],
            "needs_background": "light"
          }
        }
      ]
    },
    {
      "cell_type": "code",
      "metadata": {
        "colab": {
          "base_uri": "https://localhost:8080/",
          "height": 493
        },
        "id": "ewgoj2bhOUII",
        "outputId": "c9fd8b1e-4662-419a-ca4a-f468578fe089"
      },
      "source": [
        "fig = plt.figure(figsize=(25,7))\n",
        "grid = GridSpec(nrows=1, ncols=3, figure=fig)\n",
        "fig.suptitle(\"Test score distribution by Level of education\", fontsize=20)\n",
        "\n",
        "axis7 = fig.add_subplot(grid[0,0])\n",
        "sns.histplot(data=data, x='math score', hue='parental level of education')\n",
        "\n",
        "axis9 = fig.add_subplot(grid[0,1])\n",
        "sns.histplot(data=data, x='writing score', hue='parental level of education')\n",
        "\n",
        "axis9 = fig.add_subplot(grid[0,2])\n",
        "sns.histplot(data=data, x='reading score', hue='parental level of education')\n",
        "\n",
        "plt.show()"
      ],
      "execution_count": 5,
      "outputs": [
        {
          "output_type": "display_data",
          "data": {
            "image/png": "[encoded data removed]",
            "text/plain": [
              "<Figure size 1800x504 with 3 Axes>"
            ]
          },
          "metadata": {
            "tags": [],
            "needs_background": "light"
          }
        }
      ]
    },
    {
      "cell_type": "code",
      "metadata": {
        "colab": {
          "base_uri": "https://localhost:8080/",
          "height": 493
        },
        "id": "Wjn6Y_J9OfTB",
        "outputId": "f7a60b2f-9d29-438a-9631-a6198be2e047"
      },
      "source": [
        "fig = plt.figure(figsize=(25,7))\n",
        "grid = GridSpec(nrows=1, ncols=3, figure=fig)\n",
        "fig.suptitle(\"Test score distribution by Lunch type\", fontsize=20)\n",
        "\n",
        "axis10 = fig.add_subplot(grid[0,0])\n",
        "sns.histplot(data=data, x='math score', hue='lunch')\n",
        "\n",
        "axis11 = fig.add_subplot(grid[0,1])\n",
        "sns.histplot(data=data, x='writing score', hue='lunch')\n",
        "\n",
        "axis12 = fig.add_subplot(grid[0,2])\n",
        "sns.histplot(data=data, x='reading score', hue='lunch')\n",
        "\n",
        "plt.show()"
      ],
      "execution_count": 6,
      "outputs": [
        {
          "output_type": "display_data",
          "data": {
            "image/png": "[encoded data removed]",
            "text/plain": [
              "<Figure size 1800x504 with 3 Axes>"
            ]
          },
          "metadata": {
            "tags": [],
            "needs_background": "light"
          }
        }
      ]
    },
    {
      "cell_type": "code",
      "metadata": {
        "colab": {
          "base_uri": "https://localhost:8080/",
          "height": 493
        },
        "id": "NMC-x9PzOzsJ",
        "outputId": "7f841077-7416-45bc-8add-8408c4390f4f"
      },
      "source": [
        "fig = plt.figure(figsize=(25,7))\n",
        "grid = GridSpec(nrows=1, ncols=3, figure=fig)\n",
        "fig.suptitle(\"Test score distribution by Preparation Course\", fontsize=20)\n",
        "\n",
        "axis13 = fig.add_subplot(grid[0,0])\n",
        "sns.histplot(data=data, x='math score', hue='test preparation course')\n",
        "\n",
        "axis10 = fig.add_subplot(grid[0,1])\n",
        "sns.histplot(data=data, x='writing score', hue='test preparation course')\n",
        "\n",
        "axis15 = fig.add_subplot(grid[0,2])\n",
        "sns.histplot(data=data, x='reading score', hue='test preparation course')\n",
        "\n",
        "plt.show()"
      ],
      "execution_count": 7,
      "outputs": [
        {
          "output_type": "display_data",
          "data": {
            "image/png": "[encoded data removed]",
            "text/plain": [
              "<Figure size 1800x504 with 3 Axes>"
            ]
          },
          "metadata": {
            "tags": [],
            "needs_background": "light"
          }
        }
      ]
    },
    {
      "cell_type": "markdown",
      "metadata": {
        "id": "dxzOC4UlJH67"
      },
      "source": [
        "# ✖️ Variables"
      ]
    },
    {
      "cell_type": "markdown",
      "metadata": {
        "id": "pAp8MZo9S_vl"
      },
      "source": [
        "## Defining variables\n"
      ]
    },
    {
      "cell_type": "code",
      "metadata": {
        "id": "sLDnhAbjW9T2"
      },
      "source": [
        "none = data[data['test preparation course'] == 'none']\n",
        "completed = data[data['test preparation course'] == 'completed']\n",
        "\n",
        "standard = data[data['lunch'] == 'standard']\n",
        "free = data[data['lunch'] == 'free/reduced']\n",
        "\n",
        "male = data[data['gender'] == 'male']\n",
        "female = data[data['gender'] == 'female']"
      ],
      "execution_count": 8,
      "outputs": []
    },
    {
      "cell_type": "markdown",
      "metadata": {
        "id": "h4r2GdDyZoMt"
      },
      "source": [
        "## Levene Test and T-Test\n",
        "* Levene: The Levene test tests the null hypothesis that all input samples are from populations with equal variances. Levene’s test is an alternative to Bartlett’s test bartlett in the case where there are significant deviations from normality.\n",
        "</br>\n",
        "</br>\n",
        "* T-Test: \n",
        "  This is a two-sided test for the null hypothesis that 2 independent samples have identical average (expected) values. This test assumes that the populations have identical variances by default.\n",
        "</br>\n",
        "</br>\n",
        "</br>\n",
        "</br>\n",
        "\n",
        "$H_0$: The two samples have identical average  ($p \\geq 0.05$)\n",
        "</br>\n",
        "</br>\n",
        "\n",
        "$H_a$: The two samples do not have identical average ($p < 0.05$)"
      ]
    },
    {
      "cell_type": "markdown",
      "metadata": {
        "id": "m3wIH9mOONzN"
      },
      "source": [
        "* ### Course\n"
      ]
    },
    {
      "cell_type": "code",
      "metadata": {
        "colab": {
          "base_uri": "https://localhost:8080/"
        },
        "id": "TdktZjdkQfQa",
        "outputId": "87a860eb-4c24-49de-8d55-9857e63593ed"
      },
      "source": [
        "stats_math_levene_course, p_value_math_levene_course = stats.levene(none['math score'], completed['math score'])\n",
        "\n",
        "stats_reading_levene_course, p_value_reading_levene_course = stats.levene(none['reading score'], completed['reading score'])\n",
        "\n",
        "stats_writing_levene_course, p_value_writing_levene_course = stats.levene(none['writing score'], completed['writing score'])\n",
        "\n",
        "print(\"Math Score -> P-Value:\", p_value_math_levene_course)\n",
        "\n",
        "print(\"\\nReading Score -> P-Value:\", p_value_reading_levene_course)\n",
        "\n",
        "print(\"\\nWriting Score -> P-Value:\", p_value_writing_levene_course)"
      ],
      "execution_count": 9,
      "outputs": [
        {
          "output_type": "stream",
          "text": [
            "Math Score -> P-Value: 0.4655125071689348\n",
            "\n",
            "Reading Score -> P-Value: 0.29899398140058275\n",
            "\n",
            "Writing Score -> P-Value: 0.01471666446790565\n"
          ],
          "name": "stdout"
        }
      ]
    },
    {
      "cell_type": "code",
      "metadata": {
        "colab": {
          "base_uri": "https://localhost:8080/"
        },
        "id": "RaBLiSD_M6WO",
        "outputId": "fee91872-56d6-4cbf-998f-3756104131ed"
      },
      "source": [
        "stats_math_course, p_value_math_course = stats.ttest_ind(a=none['math score'], b=completed['math score'], equal_var=True)\n",
        "\n",
        "stats_reading_course, p_value_reading_course  = stats.ttest_ind(a=none['reading score'], b=completed['reading score'], equal_var=True)\n",
        "\n",
        "stats_writing_course, p_value_writing_course  = stats.ttest_ind(a=none['writing score'], b=completed['writing score'], equal_var=False)\n",
        "\n",
        "print(\"\\nMath Score -> P-Value:\", p_value_math_course)\n",
        "\n",
        "print(\"\\nReading Score -> P-Value:\", p_value_reading_course)\n",
        "\n",
        "print(\"\\nWriting Score -> P-Value:\", p_value_writing_course)\n"
      ],
      "execution_count": 10,
      "outputs": [
        {
          "output_type": "stream",
          "text": [
            "\n",
            "Math Score -> P-Value: 1.5359134607147415e-08\n",
            "\n",
            "Reading Score -> P-Value: 9.081783336892205e-15\n",
            "\n",
            "Writing Score -> P-Value: 2.662740173941066e-25\n"
          ],
          "name": "stdout"
        }
      ]
    },
    {
      "cell_type": "markdown",
      "metadata": {
        "id": "fwuxT5HNOQoX"
      },
      "source": [
        "* ### Lunch"
      ]
    },
    {
      "cell_type": "code",
      "metadata": {
        "colab": {
          "base_uri": "https://localhost:8080/"
        },
        "id": "pL8PkZXiQPjV",
        "outputId": "de555941-44bb-4e79-bf43-356c8d1a6a98"
      },
      "source": [
        "stats_math_levene_lunch, p_value_math_levene_lunch = stats.levene(standard['math score'], free['math score'])\n",
        "\n",
        "stats_reading_levene_lunch, p_value_reading_levene_lunch = stats.levene(standard['reading score'], free['reading score'])\n",
        "\n",
        "stats_writing_levene_lunch, p_value_writing_levene_lunch = stats.levene(standard['writing score'], free['writing score'])\n",
        "\n",
        "print(\"Math Score -> P-Value:\", p_value_math_levene_lunch)\n",
        "\n",
        "print(\"\\nReading Score -> P-Value:\", p_value_reading_levene_lunch)\n",
        "\n",
        "print(\"\\nWriting Score -> P-Value:\", p_value_writing_levene_lunch)"
      ],
      "execution_count": 11,
      "outputs": [
        {
          "output_type": "stream",
          "text": [
            "Math Score -> P-Value: 0.07422200559323446\n",
            "\n",
            "Reading Score -> P-Value: 0.15802714880749977\n",
            "\n",
            "Writing Score -> P-Value: 0.10508577823641975\n"
          ],
          "name": "stdout"
        }
      ]
    },
    {
      "cell_type": "code",
      "metadata": {
        "colab": {
          "base_uri": "https://localhost:8080/"
        },
        "id": "8qBbnWzlS7S0",
        "outputId": "04f1f0f7-a67b-488b-9ef1-40be3a63d1ff"
      },
      "source": [
        "stats_math_lunch, p_value_math_lunch = stats.ttest_ind(a=standard['math score'], b=free['math score'], equal_var=True)\n",
        "\n",
        "stats_reading_lunch, p_value_reading_lunch  = stats.ttest_ind(a=standard['reading score'], b=free['reading score'], equal_var=True)\n",
        "\n",
        "stats_writing_lunch, p_value_writing_lunch  = stats.ttest_ind(a=standard['writing score'], b=free['writing score'], equal_var=True)\n",
        "\n",
        "print(\"Math Score -> P-Value:\", p_value_math_lunch)\n",
        "\n",
        "print(\"\\nReading Score -> P-Value:\", p_value_reading_lunch)\n",
        "\n",
        "print(\"\\nWriting Score -> P-Value:\", p_value_writing_lunch)"
      ],
      "execution_count": 12,
      "outputs": [
        {
          "output_type": "stream",
          "text": [
            "Math Score -> P-Value: 2.4131955993137074e-30\n",
            "\n",
            "Reading Score -> P-Value: 2.0027966545279011e-13\n",
            "\n",
            "Writing Score -> P-Value: 3.1861895831664765e-15\n"
          ],
          "name": "stdout"
        }
      ]
    },
    {
      "cell_type": "markdown",
      "metadata": {
        "id": "5cob6ExmPULQ"
      },
      "source": [
        "* ### Gender"
      ]
    },
    {
      "cell_type": "code",
      "metadata": {
        "colab": {
          "base_uri": "https://localhost:8080/"
        },
        "id": "73RDRucKPp3U",
        "outputId": "7713b4e8-e659-4f80-f238-7235e6882016"
      },
      "source": [
        "stats_math_levene_gender, p_value_math_levene_gender = stats.levene(male['math score'], female['math score'])\n",
        "\n",
        "stats_reading_levene_gender, p_value_reading_levene_gender = stats.levene(male['reading score'], female['reading score'])\n",
        "\n",
        "stats_writing_levene_gender, p_value_writing_levene_gender = stats.levene(male['writing score'], female['writing score'])\n",
        "\n",
        "print(\"Math Score -> P-Value:\", p_value_math_levene_gender)\n",
        "\n",
        "print(\"\\nReading Score -> P-Value:\", p_value_reading_levene_gender)\n",
        "\n",
        "print(\"\\nWriting Score -> P-Value:\", p_value_writing_levene_gender)"
      ],
      "execution_count": 13,
      "outputs": [
        {
          "output_type": "stream",
          "text": [
            "Math Score -> P-Value: 0.55630915751998\n",
            "\n",
            "Reading Score -> P-Value: 0.8910815766839298\n",
            "\n",
            "Writing Score -> P-Value: 0.93362725100168\n"
          ],
          "name": "stdout"
        }
      ]
    },
    {
      "cell_type": "code",
      "metadata": {
        "colab": {
          "base_uri": "https://localhost:8080/"
        },
        "id": "j9CMWD7STd08",
        "outputId": "74e38359-daca-48da-95ef-1f096d3dac86"
      },
      "source": [
        "stats_math_gender, p_value_math_gender = stats.ttest_ind(a=male['math score'], b=female['math score'], equal_var=True)\n",
        "\n",
        "stats_reading_gender, p_value_reading_gender  = stats.ttest_ind(a=male['reading score'], b=female['reading score'], equal_var=True)\n",
        "\n",
        "stats_writing_gender, p_value_writing_gender  = stats.ttest_ind(a=male['writing score'], b=female['writing score'], equal_var=True)\n",
        "\n",
        "print(\"Math Score -> P-Value:\", p_value_math_gender)\n",
        "\n",
        "print(\"\\nReading Score -> P-Value:\", p_value_reading_gender)\n",
        "\n",
        "print(\"\\nWriting Score -> P-Value:\", p_value_writing_gender)"
      ],
      "execution_count": 14,
      "outputs": [
        {
          "output_type": "stream",
          "text": [
            "Math Score -> P-Value: 9.120185549328822e-08\n",
            "\n",
            "Reading Score -> P-Value: 4.680538743933289e-15\n",
            "\n",
            "Writing Score -> P-Value: 2.019877706867934e-22\n"
          ],
          "name": "stdout"
        }
      ]
    },
    {
      "cell_type": "markdown",
      "metadata": {
        "id": "_lQ_umPdS5YB"
      },
      "source": [
        "## Comparison"
      ]
    },
    {
      "cell_type": "code",
      "metadata": {
        "colab": {
          "base_uri": "https://localhost:8080/",
          "height": 337
        },
        "id": "vKXd3FuTS9Cc",
        "outputId": "e16ffff3-a9fe-4c22-85f1-41747c42f343"
      },
      "source": [
        "\n",
        "\n",
        "fig = go.Figure(data=[go.Table(\n",
        "    header=dict(values=['Variable', 'Levene Test Math Score','T-Test Math Score','Levene Test Reading Score','T-Test Reading Score', 'Levene Test Writing Score','T-Test Writing Score'],\n",
        "                line_color='black',\n",
        "                fill_color='cornflowerblue',\n",
        "                align='center',\n",
        "                font=dict(color='black', size=14)),\n",
        "    cells=dict(values=[['Gender', 'Lunch', 'Course'], # 1st column\n",
        "                       [round(p_value_math_levene_gender, 4), round(p_value_math_levene_lunch, 4), round(p_value_math_levene_course, 4)],\n",
        "                       [p_value_math_gender, p_value_math_lunch, p_value_math_course], \n",
        "                       [round(p_value_reading_levene_gender, 4), round(p_value_reading_levene_lunch, 4), round(p_value_reading_levene_course, 4)],\n",
        "                       [p_value_reading_gender, p_value_reading_lunch, p_value_reading_course],\n",
        "                       [round(p_value_writing_levene_gender, 4),round(p_value_writing_levene_lunch, 4), round(p_value_writing_levene_course, 4)],\n",
        "                       [p_value_writing_gender, p_value_writing_lunch, p_value_writing_course]], # 2nd column\n",
        "               line_color='black',\n",
        "               fill_color='lightskyblue',\n",
        "               align='center'))\n",
        "])\n",
        "\n",
        "fig.update_layout(width=1750, height=300)\n",
        "fig.show()"
      ],
      "execution_count": 15,
      "outputs": [
        {
          "output_type": "display_data",
          "data": {
            "text/html": [
              "<html>\n",
              "<head><meta charset=\"utf-8\" /></head>\n",
              "<body>\n",
              "    <div>\n",
              "            <script src=\"https://cdnjs.cloudflare.com/ajax/libs/mathjax/2.7.5/MathJax.js?config=TeX-AMS-MML_SVG\"></script><script type=\"text/javascript\">if (window.MathJax) {MathJax.Hub.Config({SVG: {font: \"STIX-Web\"}});}</script>\n",
              "                <script type=\"text/javascript\">window.PlotlyConfig = {MathJaxConfig: 'local'};</script>\n",
              "        <script src=\"https://cdn.plot.ly/plotly-latest.min.js\"></script>    \n",
              "            <div id=\"8b04a61d-da9f-4cce-b41e-af99063079a4\" class=\"plotly-graph-div\" style=\"height:300px; width:1750px;\"></div>\n",
              "            <script type=\"text/javascript\">\n",
              "                \n",
              "                    window.PLOTLYENV=window.PLOTLYENV || {};\n",
              "                    \n",
              "                if (document.getElementById(\"8b04a61d-da9f-4cce-b41e-af99063079a4\")) {\n",
              "                    Plotly.newPlot(\n",
              "                        '8b04a61d-da9f-4cce-b41e-af99063079a4',\n",
              "                        [{\"cells\": {\"align\": \"center\", \"fill\": {\"color\": \"lightskyblue\"}, \"line\": {\"color\": \"black\"}, \"values\": [[\"Gender\", \"Lunch\", \"Course\"], [0.5563, 0.0742, 0.4655], [9.120185549328822e-08, 2.4131955993137074e-30, 1.5359134607147415e-08], [0.8911, 0.158, 0.299], [4.680538743933289e-15, 2.0027966545279011e-13, 9.081783336892205e-15], [0.9336, 0.1051, 0.0147], [2.019877706867934e-22, 3.1861895831664765e-15, 2.662740173941066e-25]]}, \"header\": {\"align\": \"center\", \"fill\": {\"color\": \"cornflowerblue\"}, \"font\": {\"color\": \"black\", \"size\": 14}, \"line\": {\"color\": \"black\"}, \"values\": [\"Variable\", \"Levene Test Math Score\", \"T-Test Math Score\", \"Levene Test Reading Score\", \"T-Test Reading Score\", \"Levene Test Writing Score\", \"T-Test Writing Score\"]}, \"type\": \"table\"}],\n",
              "                        {\"height\": 300, \"template\": {\"data\": {\"bar\": [{\"error_x\": {\"color\": \"#2a3f5f\"}, \"error_y\": {\"color\": \"#2a3f5f\"}, \"marker\": {\"line\": {\"color\": \"#E5ECF6\", \"width\": 0.5}}, \"type\": \"bar\"}], \"barpolar\": [{\"marker\": {\"line\": {\"color\": \"#E5ECF6\", \"width\": 0.5}}, \"type\": \"barpolar\"}], \"carpet\": [{\"aaxis\": {\"endlinecolor\": \"#2a3f5f\", \"gridcolor\": \"white\", \"linecolor\": \"white\", \"minorgridcolor\": \"white\", \"startlinecolor\": \"#2a3f5f\"}, \"baxis\": {\"endlinecolor\": \"#2a3f5f\", \"gridcolor\": \"white\", \"linecolor\": \"white\", \"minorgridcolor\": \"white\", \"startlinecolor\": \"#2a3f5f\"}, \"type\": \"carpet\"}], \"choropleth\": [{\"colorbar\": {\"outlinewidth\": 0, \"ticks\": \"\"}, \"type\": \"choropleth\"}], \"contour\": [{\"colorbar\": {\"outlinewidth\": 0, \"ticks\": \"\"}, \"colorscale\": [[0.0, \"#0d0887\"], [0.1111111111111111, \"#46039f\"], [0.2222222222222222, \"#7201a8\"], [0.3333333333333333, \"#9c179e\"], [0.4444444444444444, \"#bd3786\"], [0.5555555555555556, \"#d8576b\"], [0.6666666666666666, \"#ed7953\"], [0.7777777777777778, \"#fb9f3a\"], [0.8888888888888888, \"#fdca26\"], [1.0, \"#f0f921\"]], \"type\": \"contour\"}], \"contourcarpet\": [{\"colorbar\": {\"outlinewidth\": 0, \"ticks\": \"\"}, \"type\": \"contourcarpet\"}], \"heatmap\": [{\"colorbar\": {\"outlinewidth\": 0, \"ticks\": \"\"}, \"colorscale\": [[0.0, \"#0d0887\"], [0.1111111111111111, \"#46039f\"], [0.2222222222222222, \"#7201a8\"], [0.3333333333333333, \"#9c179e\"], [0.4444444444444444, \"#bd3786\"], [0.5555555555555556, \"#d8576b\"], [0.6666666666666666, \"#ed7953\"], [0.7777777777777778, \"#fb9f3a\"], [0.8888888888888888, \"#fdca26\"], [1.0, \"#f0f921\"]], \"type\": \"heatmap\"}], \"heatmapgl\": [{\"colorbar\": {\"outlinewidth\": 0, \"ticks\": \"\"}, \"colorscale\": [[0.0, \"#0d0887\"], [0.1111111111111111, \"#46039f\"], [0.2222222222222222, \"#7201a8\"], [0.3333333333333333, \"#9c179e\"], [0.4444444444444444, \"#bd3786\"], [0.5555555555555556, \"#d8576b\"], [0.6666666666666666, \"#ed7953\"], [0.7777777777777778, \"#fb9f3a\"], [0.8888888888888888, \"#fdca26\"], [1.0, \"#f0f921\"]], \"type\": \"heatmapgl\"}], \"histogram\": [{\"marker\": {\"colorbar\": {\"outlinewidth\": 0, \"ticks\": \"\"}}, \"type\": \"histogram\"}], \"histogram2d\": [{\"colorbar\": {\"outlinewidth\": 0, \"ticks\": \"\"}, \"colorscale\": [[0.0, \"#0d0887\"], [0.1111111111111111, \"#46039f\"], [0.2222222222222222, \"#7201a8\"], [0.3333333333333333, \"#9c179e\"], [0.4444444444444444, \"#bd3786\"], [0.5555555555555556, \"#d8576b\"], [0.6666666666666666, \"#ed7953\"], [0.7777777777777778, \"#fb9f3a\"], [0.8888888888888888, \"#fdca26\"], [1.0, \"#f0f921\"]], \"type\": \"histogram2d\"}], \"histogram2dcontour\": [{\"colorbar\": {\"outlinewidth\": 0, \"ticks\": \"\"}, \"colorscale\": [[0.0, \"#0d0887\"], [0.1111111111111111, \"#46039f\"], [0.2222222222222222, \"#7201a8\"], [0.3333333333333333, \"#9c179e\"], [0.4444444444444444, \"#bd3786\"], [0.5555555555555556, \"#d8576b\"], [0.6666666666666666, \"#ed7953\"], [0.7777777777777778, \"#fb9f3a\"], [0.8888888888888888, \"#fdca26\"], [1.0, \"#f0f921\"]], \"type\": \"histogram2dcontour\"}], \"mesh3d\": [{\"colorbar\": {\"outlinewidth\": 0, \"ticks\": \"\"}, \"type\": \"mesh3d\"}], \"parcoords\": [{\"line\": {\"colorbar\": {\"outlinewidth\": 0, \"ticks\": \"\"}}, \"type\": \"parcoords\"}], \"pie\": [{\"automargin\": true, \"type\": \"pie\"}], \"scatter\": [{\"marker\": {\"colorbar\": {\"outlinewidth\": 0, \"ticks\": \"\"}}, \"type\": \"scatter\"}], \"scatter3d\": [{\"line\": {\"colorbar\": {\"outlinewidth\": 0, \"ticks\": \"\"}}, \"marker\": {\"colorbar\": {\"outlinewidth\": 0, \"ticks\": \"\"}}, \"type\": \"scatter3d\"}], \"scattercarpet\": [{\"marker\": {\"colorbar\": {\"outlinewidth\": 0, \"ticks\": \"\"}}, \"type\": \"scattercarpet\"}], \"scattergeo\": [{\"marker\": {\"colorbar\": {\"outlinewidth\": 0, \"ticks\": \"\"}}, \"type\": \"scattergeo\"}], \"scattergl\": [{\"marker\": {\"colorbar\": {\"outlinewidth\": 0, \"ticks\": \"\"}}, \"type\": \"scattergl\"}], \"scattermapbox\": [{\"marker\": {\"colorbar\": {\"outlinewidth\": 0, \"ticks\": \"\"}}, \"type\": \"scattermapbox\"}], \"scatterpolar\": [{\"marker\": {\"colorbar\": {\"outlinewidth\": 0, \"ticks\": \"\"}}, \"type\": \"scatterpolar\"}], \"scatterpolargl\": [{\"marker\": {\"colorbar\": {\"outlinewidth\": 0, \"ticks\": \"\"}}, \"type\": \"scatterpolargl\"}], \"scatterternary\": [{\"marker\": {\"colorbar\": {\"outlinewidth\": 0, \"ticks\": \"\"}}, \"type\": \"scatterternary\"}], \"surface\": [{\"colorbar\": {\"outlinewidth\": 0, \"ticks\": \"\"}, \"colorscale\": [[0.0, \"#0d0887\"], [0.1111111111111111, \"#46039f\"], [0.2222222222222222, \"#7201a8\"], [0.3333333333333333, \"#9c179e\"], [0.4444444444444444, \"#bd3786\"], [0.5555555555555556, \"#d8576b\"], [0.6666666666666666, \"#ed7953\"], [0.7777777777777778, \"#fb9f3a\"], [0.8888888888888888, \"#fdca26\"], [1.0, \"#f0f921\"]], \"type\": \"surface\"}], \"table\": [{\"cells\": {\"fill\": {\"color\": \"#EBF0F8\"}, \"line\": {\"color\": \"white\"}}, \"header\": {\"fill\": {\"color\": \"#C8D4E3\"}, \"line\": {\"color\": \"white\"}}, \"type\": \"table\"}]}, \"layout\": {\"annotationdefaults\": {\"arrowcolor\": \"#2a3f5f\", \"arrowhead\": 0, \"arrowwidth\": 1}, \"coloraxis\": {\"colorbar\": {\"outlinewidth\": 0, \"ticks\": \"\"}}, \"colorscale\": {\"diverging\": [[0, \"#8e0152\"], [0.1, \"#c51b7d\"], [0.2, \"#de77ae\"], [0.3, \"#f1b6da\"], [0.4, \"#fde0ef\"], [0.5, \"#f7f7f7\"], [0.6, \"#e6f5d0\"], [0.7, \"#b8e186\"], [0.8, \"#7fbc41\"], [0.9, \"#4d9221\"], [1, \"#276419\"]], \"sequential\": [[0.0, \"#0d0887\"], [0.1111111111111111, \"#46039f\"], [0.2222222222222222, \"#7201a8\"], [0.3333333333333333, \"#9c179e\"], [0.4444444444444444, \"#bd3786\"], [0.5555555555555556, \"#d8576b\"], [0.6666666666666666, \"#ed7953\"], [0.7777777777777778, \"#fb9f3a\"], [0.8888888888888888, \"#fdca26\"], [1.0, \"#f0f921\"]], \"sequentialminus\": [[0.0, \"#0d0887\"], [0.1111111111111111, \"#46039f\"], [0.2222222222222222, \"#7201a8\"], [0.3333333333333333, \"#9c179e\"], [0.4444444444444444, \"#bd3786\"], [0.5555555555555556, \"#d8576b\"], [0.6666666666666666, \"#ed7953\"], [0.7777777777777778, \"#fb9f3a\"], [0.8888888888888888, \"#fdca26\"], [1.0, \"#f0f921\"]]}, \"colorway\": [\"#636efa\", \"#EF553B\", \"#00cc96\", \"#ab63fa\", \"#FFA15A\", \"#19d3f3\", \"#FF6692\", \"#B6E880\", \"#FF97FF\", \"#FECB52\"], \"font\": {\"color\": \"#2a3f5f\"}, \"geo\": {\"bgcolor\": \"white\", \"lakecolor\": \"white\", \"landcolor\": \"#E5ECF6\", \"showlakes\": true, \"showland\": true, \"subunitcolor\": \"white\"}, \"hoverlabel\": {\"align\": \"left\"}, \"hovermode\": \"closest\", \"mapbox\": {\"style\": \"light\"}, \"paper_bgcolor\": \"white\", \"plot_bgcolor\": \"#E5ECF6\", \"polar\": {\"angularaxis\": {\"gridcolor\": \"white\", \"linecolor\": \"white\", \"ticks\": \"\"}, \"bgcolor\": \"#E5ECF6\", \"radialaxis\": {\"gridcolor\": \"white\", \"linecolor\": \"white\", \"ticks\": \"\"}}, \"scene\": {\"xaxis\": {\"backgroundcolor\": \"#E5ECF6\", \"gridcolor\": \"white\", \"gridwidth\": 2, \"linecolor\": \"white\", \"showbackground\": true, \"ticks\": \"\", \"zerolinecolor\": \"white\"}, \"yaxis\": {\"backgroundcolor\": \"#E5ECF6\", \"gridcolor\": \"white\", \"gridwidth\": 2, \"linecolor\": \"white\", \"showbackground\": true, \"ticks\": \"\", \"zerolinecolor\": \"white\"}, \"zaxis\": {\"backgroundcolor\": \"#E5ECF6\", \"gridcolor\": \"white\", \"gridwidth\": 2, \"linecolor\": \"white\", \"showbackground\": true, \"ticks\": \"\", \"zerolinecolor\": \"white\"}}, \"shapedefaults\": {\"line\": {\"color\": \"#2a3f5f\"}}, \"ternary\": {\"aaxis\": {\"gridcolor\": \"white\", \"linecolor\": \"white\", \"ticks\": \"\"}, \"baxis\": {\"gridcolor\": \"white\", \"linecolor\": \"white\", \"ticks\": \"\"}, \"bgcolor\": \"#E5ECF6\", \"caxis\": {\"gridcolor\": \"white\", \"linecolor\": \"white\", \"ticks\": \"\"}}, \"title\": {\"x\": 0.05}, \"xaxis\": {\"automargin\": true, \"gridcolor\": \"white\", \"linecolor\": \"white\", \"ticks\": \"\", \"title\": {\"standoff\": 15}, \"zerolinecolor\": \"white\", \"zerolinewidth\": 2}, \"yaxis\": {\"automargin\": true, \"gridcolor\": \"white\", \"linecolor\": \"white\", \"ticks\": \"\", \"title\": {\"standoff\": 15}, \"zerolinecolor\": \"white\", \"zerolinewidth\": 2}}}, \"width\": 1750},\n",
              "                        {\"responsive\": true}\n",
              "                    ).then(function(){\n",
              "                            \n",
              "var gd = document.getElementById('8b04a61d-da9f-4cce-b41e-af99063079a4');\n",
              "var x = new MutationObserver(function (mutations, observer) {{\n",
              "        var display = window.getComputedStyle(gd).display;\n",
              "        if (!display || display === 'none') {{\n",
              "            console.log([gd, 'removed!']);\n",
              "            Plotly.purge(gd);\n",
              "            observer.disconnect();\n",
              "        }}\n",
              "}});\n",
              "\n",
              "// Listen for the removal of the full notebook cells\n",
              "var notebookContainer = gd.closest('#notebook-container');\n",
              "if (notebookContainer) {{\n",
              "    x.observe(notebookContainer, {childList: true});\n",
              "}}\n",
              "\n",
              "// Listen for the clearing of the current output cell\n",
              "var outputEl = gd.closest('.output');\n",
              "if (outputEl) {{\n",
              "    x.observe(outputEl, {childList: true});\n",
              "}}\n",
              "\n",
              "                        })\n",
              "                };\n",
              "                \n",
              "            </script>\n",
              "        </div>\n",
              "</body>\n",
              "</html>"
            ]
          },
          "metadata": {
            "tags": []
          }
        }
      ]
    },
    {
      "cell_type": "markdown",
      "metadata": {
        "id": "HwfoxNW2bM4O"
      },
      "source": [
        "# 💾 Data preparation"
      ]
    },
    {
      "cell_type": "markdown",
      "metadata": {
        "id": "ycb3aWQYWQBI"
      },
      "source": [
        "## One Hot Encoding"
      ]
    },
    {
      "cell_type": "code",
      "metadata": {
        "id": "UTLvXdE2bC_V"
      },
      "source": [
        "genderTypes = {'gender': {'female': 0, 'male': 1}}\n",
        "\n",
        "courseTypes = {'test preparation course': {'none': 0, 'completed': 1}}\n",
        "\n",
        "lunchTypes = {'lunch': {'free/reduced': 0, 'standard': 1}}\n",
        "\n",
        "data = data.replace(genderTypes)\n",
        "\n",
        "data = data.replace(courseTypes)\n",
        "\n",
        "data = data.replace(lunchTypes)"
      ],
      "execution_count": 17,
      "outputs": []
    },
    {
      "cell_type": "code",
      "metadata": {
        "id": "5b5-coIjrduh"
      },
      "source": [
        "data = pd.get_dummies(data, columns=['race/ethnicity', 'parental level of education'], prefix=['race', 'education'])"
      ],
      "execution_count": 18,
      "outputs": []
    },
    {
      "cell_type": "code",
      "metadata": {
        "id": "Tlf2-RIpsYSn"
      },
      "source": [
        "data.drop(['race_group E', 'education_some high school'], axis=1, inplace=True)"
      ],
      "execution_count": 19,
      "outputs": []
    },
    {
      "cell_type": "code",
      "metadata": {
        "colab": {
          "base_uri": "https://localhost:8080/",
          "height": 258
        },
        "id": "xDdXoPwFcZpe",
        "outputId": "3910bdda-0885-418f-987c-d8557701f9f5"
      },
      "source": [
        "data.head()"
      ],
      "execution_count": 20,
      "outputs": [
        {
          "output_type": "execute_result",
          "data": {
            "text/html": [
              "<div>\n",
              "<style scoped>\n",
              "    .dataframe tbody tr th:only-of-type {\n",
              "        vertical-align: middle;\n",
              "    }\n",
              "\n",
              "    .dataframe tbody tr th {\n",
              "        vertical-align: top;\n",
              "    }\n",
              "\n",
              "    .dataframe thead th {\n",
              "        text-align: right;\n",
              "    }\n",
              "</style>\n",
              "<table border=\"1\" class=\"dataframe\">\n",
              "  <thead>\n",
              "    <tr style=\"text-align: right;\">\n",
              "      <th></th>\n",
              "      <th>gender</th>\n",
              "      <th>lunch</th>\n",
              "      <th>test preparation course</th>\n",
              "      <th>math score</th>\n",
              "      <th>reading score</th>\n",
              "      <th>writing score</th>\n",
              "      <th>race_group A</th>\n",
              "      <th>race_group B</th>\n",
              "      <th>race_group C</th>\n",
              "      <th>race_group D</th>\n",
              "      <th>education_associate's degree</th>\n",
              "      <th>education_bachelor's degree</th>\n",
              "      <th>education_high school</th>\n",
              "      <th>education_master's degree</th>\n",
              "      <th>education_some college</th>\n",
              "    </tr>\n",
              "  </thead>\n",
              "  <tbody>\n",
              "    <tr>\n",
              "      <th>0</th>\n",
              "      <td>0</td>\n",
              "      <td>1</td>\n",
              "      <td>0</td>\n",
              "      <td>72</td>\n",
              "      <td>72</td>\n",
              "      <td>74</td>\n",
              "      <td>0</td>\n",
              "      <td>1</td>\n",
              "      <td>0</td>\n",
              "      <td>0</td>\n",
              "      <td>0</td>\n",
              "      <td>1</td>\n",
              "      <td>0</td>\n",
              "      <td>0</td>\n",
              "      <td>0</td>\n",
              "    </tr>\n",
              "    <tr>\n",
              "      <th>1</th>\n",
              "      <td>0</td>\n",
              "      <td>1</td>\n",
              "      <td>1</td>\n",
              "      <td>69</td>\n",
              "      <td>90</td>\n",
              "      <td>88</td>\n",
              "      <td>0</td>\n",
              "      <td>0</td>\n",
              "      <td>1</td>\n",
              "      <td>0</td>\n",
              "      <td>0</td>\n",
              "      <td>0</td>\n",
              "      <td>0</td>\n",
              "      <td>0</td>\n",
              "      <td>1</td>\n",
              "    </tr>\n",
              "    <tr>\n",
              "      <th>2</th>\n",
              "      <td>0</td>\n",
              "      <td>1</td>\n",
              "      <td>0</td>\n",
              "      <td>90</td>\n",
              "      <td>95</td>\n",
              "      <td>93</td>\n",
              "      <td>0</td>\n",
              "      <td>1</td>\n",
              "      <td>0</td>\n",
              "      <td>0</td>\n",
              "      <td>0</td>\n",
              "      <td>0</td>\n",
              "      <td>0</td>\n",
              "      <td>1</td>\n",
              "      <td>0</td>\n",
              "    </tr>\n",
              "    <tr>\n",
              "      <th>3</th>\n",
              "      <td>1</td>\n",
              "      <td>0</td>\n",
              "      <td>0</td>\n",
              "      <td>47</td>\n",
              "      <td>57</td>\n",
              "      <td>44</td>\n",
              "      <td>1</td>\n",
              "      <td>0</td>\n",
              "      <td>0</td>\n",
              "      <td>0</td>\n",
              "      <td>1</td>\n",
              "      <td>0</td>\n",
              "      <td>0</td>\n",
              "      <td>0</td>\n",
              "      <td>0</td>\n",
              "    </tr>\n",
              "    <tr>\n",
              "      <th>4</th>\n",
              "      <td>1</td>\n",
              "      <td>1</td>\n",
              "      <td>0</td>\n",
              "      <td>76</td>\n",
              "      <td>78</td>\n",
              "      <td>75</td>\n",
              "      <td>0</td>\n",
              "      <td>0</td>\n",
              "      <td>1</td>\n",
              "      <td>0</td>\n",
              "      <td>0</td>\n",
              "      <td>0</td>\n",
              "      <td>0</td>\n",
              "      <td>0</td>\n",
              "      <td>1</td>\n",
              "    </tr>\n",
              "  </tbody>\n",
              "</table>\n",
              "</div>"
            ],
            "text/plain": [
              "   gender  lunch  ...  education_master's degree  education_some college\n",
              "0       0      1  ...                          0                       0\n",
              "1       0      1  ...                          0                       1\n",
              "2       0      1  ...                          1                       0\n",
              "3       1      0  ...                          0                       0\n",
              "4       1      1  ...                          0                       1\n",
              "\n",
              "[5 rows x 15 columns]"
            ]
          },
          "metadata": {
            "tags": []
          },
          "execution_count": 20
        }
      ]
    },
    {
      "cell_type": "markdown",
      "metadata": {
        "id": "6M4Dbn6xWaiI"
      },
      "source": [
        "## Test split"
      ]
    },
    {
      "cell_type": "code",
      "metadata": {
        "id": "RnM2Jxfvce1R"
      },
      "source": [
        "x_with_all_variables = data.drop('math score', axis=1)\n",
        "y_with_all_variables = data['math score']\n",
        "\n",
        "X_train_all, X_test_all, y_train_all, y_test_all = train_test_split(x_with_all_variables, y_with_all_variables, random_state=40)\n",
        "\n",
        "x_using_less_variables = data[['gender', 'lunch', 'test preparation course', 'reading score']]\n",
        "y_using_less_variables = data['math score']\n",
        "\n",
        "X_train, X_test, y_train, y_test = train_test_split(x_using_less_variables, y_using_less_variables, random_state=40)"
      ],
      "execution_count": 21,
      "outputs": []
    },
    {
      "cell_type": "markdown",
      "metadata": {
        "id": "KB7VxuOpa2uw"
      },
      "source": [
        "# 📁 Model Section"
      ]
    },
    {
      "cell_type": "code",
      "metadata": {
        "id": "74DetCvrer8K"
      },
      "source": [
        "model_all_variables = LinearRegression()\n",
        "model_all_variables.fit(X_train_all, y_train_all)\n",
        "pred_all_variables = model_all_variables.predict(X_test_all)\n",
        "\n",
        "model_less_variables = LinearRegression()\n",
        "model_less_variables.fit(X_train, y_train)\n",
        "pred_less_variables = model_less_variables.predict(X_test)\n"
      ],
      "execution_count": 22,
      "outputs": []
    },
    {
      "cell_type": "markdown",
      "metadata": {
        "id": "RgUyIIC2WlR1"
      },
      "source": [
        "## Prediction"
      ]
    },
    {
      "cell_type": "code",
      "metadata": {
        "colab": {
          "base_uri": "https://localhost:8080/",
          "height": 419
        },
        "id": "Dn9KGHQ5o-7L",
        "outputId": "9242e401-9e62-4baf-e9e3-efeb0ea44e67"
      },
      "source": [
        "pd.DataFrame({\"Real\": y_test, 'Predict With All Variables': pred_all_variables, 'Predict With Less Variables': pred_less_variables})"
      ],
      "execution_count": 23,
      "outputs": [
        {
          "output_type": "execute_result",
          "data": {
            "text/html": [
              "<div>\n",
              "<style scoped>\n",
              "    .dataframe tbody tr th:only-of-type {\n",
              "        vertical-align: middle;\n",
              "    }\n",
              "\n",
              "    .dataframe tbody tr th {\n",
              "        vertical-align: top;\n",
              "    }\n",
              "\n",
              "    .dataframe thead th {\n",
              "        text-align: right;\n",
              "    }\n",
              "</style>\n",
              "<table border=\"1\" class=\"dataframe\">\n",
              "  <thead>\n",
              "    <tr style=\"text-align: right;\">\n",
              "      <th></th>\n",
              "      <th>Real</th>\n",
              "      <th>Predict With All Variables</th>\n",
              "      <th>Predict With Less Variables</th>\n",
              "    </tr>\n",
              "  </thead>\n",
              "  <tbody>\n",
              "    <tr>\n",
              "      <th>204</th>\n",
              "      <td>59</td>\n",
              "      <td>48.420251</td>\n",
              "      <td>47.568734</td>\n",
              "    </tr>\n",
              "    <tr>\n",
              "      <th>71</th>\n",
              "      <td>63</td>\n",
              "      <td>63.778220</td>\n",
              "      <td>59.463650</td>\n",
              "    </tr>\n",
              "    <tr>\n",
              "      <th>594</th>\n",
              "      <td>92</td>\n",
              "      <td>86.814629</td>\n",
              "      <td>90.121432</td>\n",
              "    </tr>\n",
              "    <tr>\n",
              "      <th>672</th>\n",
              "      <td>69</td>\n",
              "      <td>69.552638</td>\n",
              "      <td>70.682776</td>\n",
              "    </tr>\n",
              "    <tr>\n",
              "      <th>14</th>\n",
              "      <td>50</td>\n",
              "      <td>47.476616</td>\n",
              "      <td>47.108589</td>\n",
              "    </tr>\n",
              "    <tr>\n",
              "      <th>...</th>\n",
              "      <td>...</td>\n",
              "      <td>...</td>\n",
              "      <td>...</td>\n",
              "    </tr>\n",
              "    <tr>\n",
              "      <th>199</th>\n",
              "      <td>78</td>\n",
              "      <td>66.462871</td>\n",
              "      <td>67.399882</td>\n",
              "    </tr>\n",
              "    <tr>\n",
              "      <th>383</th>\n",
              "      <td>38</td>\n",
              "      <td>42.264789</td>\n",
              "      <td>39.110858</td>\n",
              "    </tr>\n",
              "    <tr>\n",
              "      <th>764</th>\n",
              "      <td>60</td>\n",
              "      <td>66.748419</td>\n",
              "      <td>68.314018</td>\n",
              "    </tr>\n",
              "    <tr>\n",
              "      <th>197</th>\n",
              "      <td>55</td>\n",
              "      <td>60.883471</td>\n",
              "      <td>57.487384</td>\n",
              "    </tr>\n",
              "    <tr>\n",
              "      <th>707</th>\n",
              "      <td>66</td>\n",
              "      <td>60.469831</td>\n",
              "      <td>64.542148</td>\n",
              "    </tr>\n",
              "  </tbody>\n",
              "</table>\n",
              "<p>250 rows × 3 columns</p>\n",
              "</div>"
            ],
            "text/plain": [
              "     Real  Predict With All Variables  Predict With Less Variables\n",
              "204    59                   48.420251                    47.568734\n",
              "71     63                   63.778220                    59.463650\n",
              "594    92                   86.814629                    90.121432\n",
              "672    69                   69.552638                    70.682776\n",
              "14     50                   47.476616                    47.108589\n",
              "..    ...                         ...                          ...\n",
              "199    78                   66.462871                    67.399882\n",
              "383    38                   42.264789                    39.110858\n",
              "764    60                   66.748419                    68.314018\n",
              "197    55                   60.883471                    57.487384\n",
              "707    66                   60.469831                    64.542148\n",
              "\n",
              "[250 rows x 3 columns]"
            ]
          },
          "metadata": {
            "tags": []
          },
          "execution_count": 23
        }
      ]
    },
    {
      "cell_type": "markdown",
      "metadata": {
        "id": "HCmW3DYKvrYC"
      },
      "source": [
        "We can confirm that we dont need to use 14 columns to predict"
      ]
    }
  ]
}